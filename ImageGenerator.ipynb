{
 "cells": [
  {
   "cell_type": "code",
   "execution_count": 5,
   "id": "2ab29879",
   "metadata": {},
   "outputs": [],
   "source": [
    "import os\n",
    "import kagglehub\n",
    "import tensorflow as tf\n",
    "from tensorflow.keras import layers\n",
    "import matplotlib.pyplot as plt\n",
    "from PIL import Image\n",
    "import numpy as np"
   ]
  },
  {
   "cell_type": "code",
   "execution_count": 4,
   "id": "8e99a7db",
   "metadata": {},
   "outputs": [
    {
     "ename": "NameError",
     "evalue": "name 'tf' is not defined",
     "output_type": "error",
     "traceback": [
      "\u001b[1;31m---------------------------------------------------------------------------\u001b[0m",
      "\u001b[1;31mNameError\u001b[0m                                 Traceback (most recent call last)",
      "Cell \u001b[1;32mIn[4], line 2\u001b[0m\n\u001b[0;32m      1\u001b[0m \u001b[38;5;66;03m# Check available devices\u001b[39;00m\n\u001b[1;32m----> 2\u001b[0m \u001b[38;5;28mprint\u001b[39m(\u001b[38;5;124m\"\u001b[39m\u001b[38;5;124mNum GPUs Available:\u001b[39m\u001b[38;5;124m\"\u001b[39m, \u001b[38;5;28mlen\u001b[39m(tf\u001b[38;5;241m.\u001b[39mconfig\u001b[38;5;241m.\u001b[39mlist_physical_devices(\u001b[38;5;124m'\u001b[39m\u001b[38;5;124mGPU\u001b[39m\u001b[38;5;124m'\u001b[39m)))\n",
      "\u001b[1;31mNameError\u001b[0m: name 'tf' is not defined"
     ]
    }
   ],
   "source": [
    "# Check available devices\n",
    "print(\"Num GPUs Available:\", len(tf.config.list_physical_devices('GPU')))"
   ]
  },
  {
   "cell_type": "code",
   "execution_count": null,
   "id": "c7e1398b",
   "metadata": {},
   "outputs": [],
   "source": [
    "# Step 1: Download and Load Dataset\n",
    "path = kagglehub.dataset_download(\"gpiosenka/cats-in-the-wild-image-classification\")\n",
    "print(\"Path to dataset files:\", path)\n",
    "\n",
    "# Updated: Load images from class subfolders inside /valid\n",
    "def load_images_from_subfolders(root_folder, img_size=(64, 64), max_images=1000):\n",
    "    images = []\n",
    "    for class_folder in os.listdir(root_folder):\n",
    "        class_path = os.path.join(root_folder, class_folder)\n",
    "        if os.path.isdir(class_path):\n",
    "            for img_file in os.listdir(class_path):\n",
    "                if img_file.lower().endswith((\".jpg\", \".jpeg\", \".png\")):\n",
    "                    img_path = os.path.join(class_path, img_file)\n",
    "                    try:\n",
    "                        img = Image.open(img_path).convert(\"RGB\").resize(img_size)\n",
    "                        img_array = np.asarray(img) / 127.5 - 1  # Normalize to [-1, 1]\n",
    "                        images.append(img_array)\n",
    "                        if len(images) >= max_images:\n",
    "                            return np.array(images)\n",
    "                    except Exception as e:\n",
    "                        print(f\"Error loading {img_path}: {e}\")\n",
    "    return np.array(images)\n",
    "\n",
    "data_dir = os.path.join(path, \"valid\")\n",
    "images = load_images_from_subfolders(data_dir, max_images=2000)\n",
    "print(\"Loaded\", images.shape[0], \"images.\")"
   ]
  },
  {
   "cell_type": "code",
   "execution_count": null,
   "id": "ae3b4b22",
   "metadata": {},
   "outputs": [],
   "source": [
    "# Optional: Visualize sample\n",
    "plt.imshow((images[0] + 1) / 2)\n",
    "plt.axis('off')\n",
    "plt.title(\"Sample Image\")\n",
    "plt.show()\n"
   ]
  },
  {
   "cell_type": "code",
   "execution_count": null,
   "id": "5c390277",
   "metadata": {},
   "outputs": [],
   "source": [
    "# Step 2: Define the Generator\n",
    "def make_generator_model():\n",
    "    model = tf.keras.Sequential([\n",
    "        layers.Dense(8*8*256, use_bias=False, input_shape=(100,)),\n",
    "        layers.BatchNormalization(),\n",
    "        layers.LeakyReLU(),\n",
    "\n",
    "        layers.Reshape((8, 8, 256)),\n",
    "\n",
    "        layers.Conv2DTranspose(128, (5, 5), strides=(2, 2), padding='same', use_bias=False),\n",
    "        layers.BatchNormalization(),\n",
    "        layers.LeakyReLU(),\n",
    "\n",
    "        layers.Conv2DTranspose(64, (5, 5), strides=(2, 2), padding='same', use_bias=False),\n",
    "        layers.BatchNormalization(),\n",
    "        layers.LeakyReLU(),\n",
    "\n",
    "        layers.Conv2DTranspose(3, (5, 5), strides=(2, 2), padding='same', use_bias=False, activation='tanh')\n",
    "    ])\n",
    "    return model\n"
   ]
  },
  {
   "cell_type": "code",
   "execution_count": null,
   "id": "a14c134b",
   "metadata": {},
   "outputs": [],
   "source": [
    "# Step 3: Define the Discriminator\n",
    "def make_discriminator_model():\n",
    "    model = tf.keras.Sequential([\n",
    "        layers.Conv2D(64, (5, 5), strides=(2, 2), padding='same',\n",
    "                      input_shape=[64, 64, 3]),\n",
    "        layers.LeakyReLU(),\n",
    "        layers.Dropout(0.3),\n",
    "\n",
    "        layers.Conv2D(128, (5, 5), strides=(2, 2), padding='same'),\n",
    "        layers.LeakyReLU(),\n",
    "        layers.Dropout(0.3),\n",
    "\n",
    "        layers.Flatten(),\n",
    "        layers.Dense(1)\n",
    "    ])\n",
    "    return model"
   ]
  },
  {
   "cell_type": "code",
   "execution_count": null,
   "id": "34f3e939",
   "metadata": {},
   "outputs": [],
   "source": [
    "# Step 4: Define Loss Functions\n",
    "cross_entropy = tf.keras.losses.BinaryCrossentropy(from_logits=True)\n",
    "\n",
    "def discriminator_loss(real_output, fake_output):\n",
    "    real_loss = cross_entropy(tf.ones_like(real_output), real_output)\n",
    "    fake_loss = cross_entropy(tf.zeros_like(fake_output), fake_output)\n",
    "    return real_loss + fake_loss\n",
    "\n",
    "def generator_loss(fake_output):\n",
    "    return cross_entropy(tf.ones_like(fake_output), fake_output)"
   ]
  },
  {
   "cell_type": "code",
   "execution_count": null,
   "id": "8d94ae09",
   "metadata": {},
   "outputs": [],
   "source": [
    "# Step 5: Instantiate Models and Optimizers\n",
    "generator = make_generator_model()\n",
    "discriminator = make_discriminator_model()\n",
    "\n",
    "generator_optimizer = tf.keras.optimizers.Adam(1e-4)\n",
    "discriminator_optimizer = tf.keras.optimizers.Adam(1e-4)\n"
   ]
  },
  {
   "cell_type": "code",
   "execution_count": null,
   "id": "9c12119f",
   "metadata": {},
   "outputs": [],
   "source": [
    "# Step 6: Training Parameters\n",
    "EPOCHS = 500000\n",
    "BATCH_SIZE = 16\n",
    "noise_dim = 100\n",
    "seed = tf.random.normal([16, noise_dim])\n",
    "\n",
    "train_dataset = tf.data.Dataset.from_tensor_slices(images).shuffle(2000).batch(BATCH_SIZE)\n"
   ]
  },
  {
   "cell_type": "code",
   "execution_count": null,
   "id": "771b23b1",
   "metadata": {},
   "outputs": [],
   "source": [
    "\n",
    "\n",
    "# Step 7: Define Training Loop\n",
    "@tf.function\n",
    "def train_step(images):\n",
    "    noise = tf.random.normal([BATCH_SIZE, noise_dim])\n",
    "\n",
    "    with tf.GradientTape() as gen_tape, tf.GradientTape() as disc_tape:\n",
    "        generated_images = generator(noise, training=True)\n",
    "\n",
    "        real_output = discriminator(images, training=True)\n",
    "        fake_output = discriminator(generated_images, training=True)\n",
    "\n",
    "        gen_loss = generator_loss(fake_output)\n",
    "        disc_loss = discriminator_loss(real_output, fake_output)\n",
    "\n",
    "    gradients_of_generator = gen_tape.gradient(gen_loss, generator.trainable_variables)\n",
    "    gradients_of_discriminator = disc_tape.gradient(disc_loss, discriminator.trainable_variables)\n",
    "\n",
    "    generator_optimizer.apply_gradients(zip(gradients_of_generator, generator.trainable_variables))\n",
    "    discriminator_optimizer.apply_gradients(zip(gradients_of_discriminator, discriminator.trainable_variables))\n",
    "\n",
    "def train(dataset, epochs):\n",
    "    for epoch in range(epochs):\n",
    "        for image_batch in dataset:\n",
    "            train_step(image_batch)\n",
    "        print(f\"Epoch {epoch + 1}/{epochs} complete.\")\n",
    "\n",
    "        # Generate and show sample images every few epochs\n",
    "        if (epoch + 1) % 10 == 0:\n",
    "            generate_and_show(generator, seed)\n",
    "\n",
    "# Step 8: Generate and Display Images\n",
    "def generate_and_show(generator, seed):\n",
    "    predictions = generator(seed, training=False)\n",
    "    fig = plt.figure(figsize=(4, 4))\n",
    "\n",
    "    for i in range(predictions.shape[0]):\n",
    "        plt.subplot(4, 4, i+1)\n",
    "        plt.imshow((predictions[i] + 1) / 2)\n",
    "        plt.axis('off')\n",
    "\n",
    "    plt.suptitle(\"Generated Images\")\n",
    "    plt.show()\n",
    "\n",
    "# Step 9: Train the GAN\n",
    "train(train_dataset, EPOCHS)\n"
   ]
  },
  {
   "cell_type": "code",
   "execution_count": null,
   "id": "d7137f93",
   "metadata": {},
   "outputs": [],
   "source": [
    "generator.save(\"generator_model.h5\")\n"
   ]
  },
  {
   "cell_type": "code",
   "execution_count": null,
   "id": "e196a4aa",
   "metadata": {},
   "outputs": [],
   "source": []
  },
  {
   "cell_type": "code",
   "execution_count": null,
   "id": "b235c9a6",
   "metadata": {},
   "outputs": [],
   "source": [
    "\n"
   ]
  }
 ],
 "metadata": {
  "kernelspec": {
   "display_name": "base",
   "language": "python",
   "name": "python3"
  },
  "language_info": {
   "codemirror_mode": {
    "name": "ipython",
    "version": 3
   },
   "file_extension": ".py",
   "mimetype": "text/x-python",
   "name": "python",
   "nbconvert_exporter": "python",
   "pygments_lexer": "ipython3",
   "version": "3.12.7"
  }
 },
 "nbformat": 4,
 "nbformat_minor": 5
}
