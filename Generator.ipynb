{
 "cells": [
  {
   "cell_type": "code",
   "execution_count": null,
   "id": "fee04bbe",
   "metadata": {},
   "outputs": [],
   "source": [
    "import os\n",
    "import tensorflow as tf\n",
    "import numpy as np\n",
    "from PIL import Image\n",
    "import matplotlib.pyplot as plt\n",
    "\n",
    "# Set latent vector size\n",
    "noise_dim = 128  # or 100, depending on your training config\n",
    "\n",
    "# Load the trained generator\n",
    "generator = tf.keras.models.load_model(\"generator_model.h5\")\n",
    "\n",
    "# Create output directory\n",
    "os.makedirs(\"generated_images\", exist_ok=True)\n",
    "\n",
    "# Generate and save images\n",
    "for i in range(10):\n",
    "    seed = tf.random.normal([1, noise_dim])\n",
    "    generated_image = generator(seed, training=False)[0]\n",
    "    image_array = ((generated_image + 1) * 127.5).numpy().astype(\"uint8\")\n",
    "\n",
    "    img = Image.fromarray(image_array)\n",
    "    filename = f\"generated_images/generated_{i+1}.png\"\n",
    "    img.save(filename)\n",
    "    print(f\"Saved {filename}\")\n",
    "\n",
    "# Optional: Display one\n",
    "plt.imshow(image_array)\n",
    "plt.axis('off')\n",
    "plt.title(\"Example\")\n",
    "plt.show()\n"
   ]
  }
 ],
 "metadata": {
  "language_info": {
   "name": "python"
  }
 },
 "nbformat": 4,
 "nbformat_minor": 5
}
